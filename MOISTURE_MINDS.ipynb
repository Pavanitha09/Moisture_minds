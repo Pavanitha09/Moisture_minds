{
  "nbformat": 4,
  "nbformat_minor": 0,
  "metadata": {
    "colab": {
      "provenance": []
    },
    "kernelspec": {
      "name": "python3",
      "display_name": "Python 3"
    },
    "language_info": {
      "name": "python"
    },
    "accelerator": "TPU",
    "gpuClass": "standard"
  },
  "cells": [
    {
      "cell_type": "code",
      "execution_count": 69,
      "metadata": {
        "id": "F-96zSDiEbFO"
      },
      "outputs": [],
      "source": [
        "from statsmodels.graphics.tsaplots import plot_acf, plot_pacf\n",
        "from statsmodels.tsa.statespace.varmax import VARMAX\n",
        "from statsmodels.tsa.api import VAR\n",
        "from statsmodels.tsa.stattools import grangercausalitytests, adfuller\n",
        "from tqdm import tqdm_notebook\n",
        "from itertools import product\n",
        "import numpy as np\n",
        "import tensorflow as tf\n",
        "from tensorflow.keras.models import Sequential\n",
        "from tensorflow.keras.layers import LSTM\n",
        "from tensorflow.keras.layers import Dense, Dropout\n",
        "import pandas as pd\n",
        "from matplotlib import pyplot as plt\n",
        "from sklearn.preprocessing import StandardScaler\n",
        "import seaborn as sns\n",
        "import matplotlib.pyplot as plt\n",
        "import statsmodels.api as sm\n",
        "import pandas as pd\n",
        "import numpy as np\n",
        "\n",
        "import warnings\n",
        "warnings.filterwarnings('ignore')"
      ]
    },
    {
      "cell_type": "code",
      "source": [
        "from google.colab import drive\n",
        "drive.mount('/content/drive')"
      ],
      "metadata": {
        "colab": {
          "base_uri": "https://localhost:8080/"
        },
        "id": "p_uZ2lrQEh-k",
        "outputId": "165f4db0-b4bd-4e06-c44b-d4d8c2142003"
      },
      "execution_count": 70,
      "outputs": [
        {
          "output_type": "stream",
          "name": "stdout",
          "text": [
            "Drive already mounted at /content/drive; to attempt to forcibly remount, call drive.mount(\"/content/drive\", force_remount=True).\n"
          ]
        }
      ]
    },
    {
      "cell_type": "code",
      "source": [
        "from datetime import datetime\n",
        "\n",
        "filepath = '/content/drive/MyDrive/MOISTURE_MINDS/combined_data.csv'\n",
        "custom_date_parser = lambda x: datetime.strptime(x, \"%Y-%m-%d %H:%M:%S\")\n",
        "df = pd.read_csv(filepath ,\n",
        "                 parse_dates=['ttime'],\n",
        "                date_parser=custom_date_parser)\n"
      ],
      "metadata": {
        "id": "4-X6L5tbhVuy"
      },
      "execution_count": 71,
      "outputs": []
    },
    {
      "cell_type": "code",
      "source": [
        "swap_list = ['pm1', 'pm2', 'pm3', 'am', 'lum', 'st','pres','humd','temp','sm']\n",
        "\n",
        "# Swapping the columns\n",
        "df = df.reindex(columns=swap_list)\n",
        "print(df.head())"
      ],
      "metadata": {
        "colab": {
          "base_uri": "https://localhost:8080/"
        },
        "id": "51fK7y1uGpz9",
        "outputId": "c7c15494-2525-4c4d-c03f-ccfba78c83a8"
      },
      "execution_count": 72,
      "outputs": [
        {
          "output_type": "stream",
          "name": "stdout",
          "text": [
            "    pm1  pm2  pm3   am      lum     st      pres   humd   temp      sm\n",
            "0  0.83  0.0  0.0  0.0   6547.0  25.65  92849.25  90.57  23.02  7463.0\n",
            "1  3.63  0.0  0.0  3.2  15001.0  25.65  92849.25  90.57  23.02  7813.0\n",
            "2  1.39  0.0  0.0  0.0  10249.0  25.65  92848.31  88.37  23.47  7576.0\n",
            "3  4.19  0.0  0.0  4.8  13863.0  25.66  92848.31  88.37  23.47  7692.0\n",
            "4  1.95  0.0  0.0  0.0  12636.0  25.66  92844.82  85.26  23.64  7576.0\n"
          ]
        }
      ]
    },
    {
      "cell_type": "code",
      "source": [
        "# from matplotlib import pyplot as plt\n",
        "# x = df['ttime'].values\n",
        "# print(type(x))\n",
        "# y = df['sm'].values\n",
        "# plt.plot(x,y)\n",
        "# plt.show()"
      ],
      "metadata": {
        "id": "mcQbBB8jGwTS"
      },
      "execution_count": null,
      "outputs": []
    },
    {
      "cell_type": "code",
      "source": [
        "cols = list(df)[0:]\n",
        "#Date and volume columns are not used in training. \n",
        "print(cols)"
      ],
      "metadata": {
        "id": "lJCr_j5GImMb",
        "colab": {
          "base_uri": "https://localhost:8080/"
        },
        "outputId": "4ac821d2-604e-443f-ae8c-7d11d79b19fa"
      },
      "execution_count": 73,
      "outputs": [
        {
          "output_type": "stream",
          "name": "stdout",
          "text": [
            "['pm1', 'pm2', 'pm3', 'am', 'lum', 'st', 'pres', 'humd', 'temp', 'sm']\n"
          ]
        }
      ]
    },
    {
      "cell_type": "code",
      "source": [
        "df_for_training = df[cols].astype(float)"
      ],
      "metadata": {
        "id": "ojfXhp44Lm0c"
      },
      "execution_count": 74,
      "outputs": []
    },
    {
      "cell_type": "code",
      "source": [
        "print(\"before training\")\n",
        "df_for_training"
      ],
      "metadata": {
        "colab": {
          "base_uri": "https://localhost:8080/",
          "height": 441
        },
        "id": "PRlTld9Li8F-",
        "outputId": "014f0517-44e1-488b-a2e5-90a7f6e20212"
      },
      "execution_count": 75,
      "outputs": [
        {
          "output_type": "stream",
          "name": "stdout",
          "text": [
            "before training\n"
          ]
        },
        {
          "output_type": "execute_result",
          "data": {
            "text/plain": [
              "        pm1   pm2    pm3   am      lum     st      pres   humd   temp      sm\n",
              "0      0.83  0.00   0.00  0.0   6547.0  25.65  92849.25  90.57  23.02  7463.0\n",
              "1      3.63  0.00   0.00  3.2  15001.0  25.65  92849.25  90.57  23.02  7813.0\n",
              "2      1.39  0.00   0.00  0.0  10249.0  25.65  92848.31  88.37  23.47  7576.0\n",
              "3      4.19  0.00   0.00  4.8  13863.0  25.66  92848.31  88.37  23.47  7692.0\n",
              "4      1.95  0.00   0.00  0.0  12636.0  25.66  92844.82  85.26  23.64  7576.0\n",
              "...     ...   ...    ...  ...      ...    ...       ...    ...    ...     ...\n",
              "39502  1.67  1.11  27.38  4.8   7661.0  29.24  93571.75  24.39  30.07   327.0\n",
              "39503  0.55  1.11  28.49  1.6    384.0  29.17  93571.75  24.39  30.07   291.0\n",
              "39504  0.55  1.67  27.93  4.0   8386.0  29.17  93558.36  22.99  31.55   327.0\n",
              "39505  1.11  1.67  27.93  2.4   8954.0  29.17  93541.99  20.85  32.68   328.0\n",
              "39506  0.55  1.11  28.49  8.8    384.0  29.06  93541.99  20.85  32.68   292.0\n",
              "\n",
              "[39507 rows x 10 columns]"
            ],
            "text/html": [
              "\n",
              "  <div id=\"df-46301d5d-3bcb-49a6-b3c6-27e6156ad3fc\">\n",
              "    <div class=\"colab-df-container\">\n",
              "      <div>\n",
              "<style scoped>\n",
              "    .dataframe tbody tr th:only-of-type {\n",
              "        vertical-align: middle;\n",
              "    }\n",
              "\n",
              "    .dataframe tbody tr th {\n",
              "        vertical-align: top;\n",
              "    }\n",
              "\n",
              "    .dataframe thead th {\n",
              "        text-align: right;\n",
              "    }\n",
              "</style>\n",
              "<table border=\"1\" class=\"dataframe\">\n",
              "  <thead>\n",
              "    <tr style=\"text-align: right;\">\n",
              "      <th></th>\n",
              "      <th>pm1</th>\n",
              "      <th>pm2</th>\n",
              "      <th>pm3</th>\n",
              "      <th>am</th>\n",
              "      <th>lum</th>\n",
              "      <th>st</th>\n",
              "      <th>pres</th>\n",
              "      <th>humd</th>\n",
              "      <th>temp</th>\n",
              "      <th>sm</th>\n",
              "    </tr>\n",
              "  </thead>\n",
              "  <tbody>\n",
              "    <tr>\n",
              "      <th>0</th>\n",
              "      <td>0.83</td>\n",
              "      <td>0.00</td>\n",
              "      <td>0.00</td>\n",
              "      <td>0.0</td>\n",
              "      <td>6547.0</td>\n",
              "      <td>25.65</td>\n",
              "      <td>92849.25</td>\n",
              "      <td>90.57</td>\n",
              "      <td>23.02</td>\n",
              "      <td>7463.0</td>\n",
              "    </tr>\n",
              "    <tr>\n",
              "      <th>1</th>\n",
              "      <td>3.63</td>\n",
              "      <td>0.00</td>\n",
              "      <td>0.00</td>\n",
              "      <td>3.2</td>\n",
              "      <td>15001.0</td>\n",
              "      <td>25.65</td>\n",
              "      <td>92849.25</td>\n",
              "      <td>90.57</td>\n",
              "      <td>23.02</td>\n",
              "      <td>7813.0</td>\n",
              "    </tr>\n",
              "    <tr>\n",
              "      <th>2</th>\n",
              "      <td>1.39</td>\n",
              "      <td>0.00</td>\n",
              "      <td>0.00</td>\n",
              "      <td>0.0</td>\n",
              "      <td>10249.0</td>\n",
              "      <td>25.65</td>\n",
              "      <td>92848.31</td>\n",
              "      <td>88.37</td>\n",
              "      <td>23.47</td>\n",
              "      <td>7576.0</td>\n",
              "    </tr>\n",
              "    <tr>\n",
              "      <th>3</th>\n",
              "      <td>4.19</td>\n",
              "      <td>0.00</td>\n",
              "      <td>0.00</td>\n",
              "      <td>4.8</td>\n",
              "      <td>13863.0</td>\n",
              "      <td>25.66</td>\n",
              "      <td>92848.31</td>\n",
              "      <td>88.37</td>\n",
              "      <td>23.47</td>\n",
              "      <td>7692.0</td>\n",
              "    </tr>\n",
              "    <tr>\n",
              "      <th>4</th>\n",
              "      <td>1.95</td>\n",
              "      <td>0.00</td>\n",
              "      <td>0.00</td>\n",
              "      <td>0.0</td>\n",
              "      <td>12636.0</td>\n",
              "      <td>25.66</td>\n",
              "      <td>92844.82</td>\n",
              "      <td>85.26</td>\n",
              "      <td>23.64</td>\n",
              "      <td>7576.0</td>\n",
              "    </tr>\n",
              "    <tr>\n",
              "      <th>...</th>\n",
              "      <td>...</td>\n",
              "      <td>...</td>\n",
              "      <td>...</td>\n",
              "      <td>...</td>\n",
              "      <td>...</td>\n",
              "      <td>...</td>\n",
              "      <td>...</td>\n",
              "      <td>...</td>\n",
              "      <td>...</td>\n",
              "      <td>...</td>\n",
              "    </tr>\n",
              "    <tr>\n",
              "      <th>39502</th>\n",
              "      <td>1.67</td>\n",
              "      <td>1.11</td>\n",
              "      <td>27.38</td>\n",
              "      <td>4.8</td>\n",
              "      <td>7661.0</td>\n",
              "      <td>29.24</td>\n",
              "      <td>93571.75</td>\n",
              "      <td>24.39</td>\n",
              "      <td>30.07</td>\n",
              "      <td>327.0</td>\n",
              "    </tr>\n",
              "    <tr>\n",
              "      <th>39503</th>\n",
              "      <td>0.55</td>\n",
              "      <td>1.11</td>\n",
              "      <td>28.49</td>\n",
              "      <td>1.6</td>\n",
              "      <td>384.0</td>\n",
              "      <td>29.17</td>\n",
              "      <td>93571.75</td>\n",
              "      <td>24.39</td>\n",
              "      <td>30.07</td>\n",
              "      <td>291.0</td>\n",
              "    </tr>\n",
              "    <tr>\n",
              "      <th>39504</th>\n",
              "      <td>0.55</td>\n",
              "      <td>1.67</td>\n",
              "      <td>27.93</td>\n",
              "      <td>4.0</td>\n",
              "      <td>8386.0</td>\n",
              "      <td>29.17</td>\n",
              "      <td>93558.36</td>\n",
              "      <td>22.99</td>\n",
              "      <td>31.55</td>\n",
              "      <td>327.0</td>\n",
              "    </tr>\n",
              "    <tr>\n",
              "      <th>39505</th>\n",
              "      <td>1.11</td>\n",
              "      <td>1.67</td>\n",
              "      <td>27.93</td>\n",
              "      <td>2.4</td>\n",
              "      <td>8954.0</td>\n",
              "      <td>29.17</td>\n",
              "      <td>93541.99</td>\n",
              "      <td>20.85</td>\n",
              "      <td>32.68</td>\n",
              "      <td>328.0</td>\n",
              "    </tr>\n",
              "    <tr>\n",
              "      <th>39506</th>\n",
              "      <td>0.55</td>\n",
              "      <td>1.11</td>\n",
              "      <td>28.49</td>\n",
              "      <td>8.8</td>\n",
              "      <td>384.0</td>\n",
              "      <td>29.06</td>\n",
              "      <td>93541.99</td>\n",
              "      <td>20.85</td>\n",
              "      <td>32.68</td>\n",
              "      <td>292.0</td>\n",
              "    </tr>\n",
              "  </tbody>\n",
              "</table>\n",
              "<p>39507 rows × 10 columns</p>\n",
              "</div>\n",
              "      <button class=\"colab-df-convert\" onclick=\"convertToInteractive('df-46301d5d-3bcb-49a6-b3c6-27e6156ad3fc')\"\n",
              "              title=\"Convert this dataframe to an interactive table.\"\n",
              "              style=\"display:none;\">\n",
              "        \n",
              "  <svg xmlns=\"http://www.w3.org/2000/svg\" height=\"24px\"viewBox=\"0 0 24 24\"\n",
              "       width=\"24px\">\n",
              "    <path d=\"M0 0h24v24H0V0z\" fill=\"none\"/>\n",
              "    <path d=\"M18.56 5.44l.94 2.06.94-2.06 2.06-.94-2.06-.94-.94-2.06-.94 2.06-2.06.94zm-11 1L8.5 8.5l.94-2.06 2.06-.94-2.06-.94L8.5 2.5l-.94 2.06-2.06.94zm10 10l.94 2.06.94-2.06 2.06-.94-2.06-.94-.94-2.06-.94 2.06-2.06.94z\"/><path d=\"M17.41 7.96l-1.37-1.37c-.4-.4-.92-.59-1.43-.59-.52 0-1.04.2-1.43.59L10.3 9.45l-7.72 7.72c-.78.78-.78 2.05 0 2.83L4 21.41c.39.39.9.59 1.41.59.51 0 1.02-.2 1.41-.59l7.78-7.78 2.81-2.81c.8-.78.8-2.07 0-2.86zM5.41 20L4 18.59l7.72-7.72 1.47 1.35L5.41 20z\"/>\n",
              "  </svg>\n",
              "      </button>\n",
              "      \n",
              "  <style>\n",
              "    .colab-df-container {\n",
              "      display:flex;\n",
              "      flex-wrap:wrap;\n",
              "      gap: 12px;\n",
              "    }\n",
              "\n",
              "    .colab-df-convert {\n",
              "      background-color: #E8F0FE;\n",
              "      border: none;\n",
              "      border-radius: 50%;\n",
              "      cursor: pointer;\n",
              "      display: none;\n",
              "      fill: #1967D2;\n",
              "      height: 32px;\n",
              "      padding: 0 0 0 0;\n",
              "      width: 32px;\n",
              "    }\n",
              "\n",
              "    .colab-df-convert:hover {\n",
              "      background-color: #E2EBFA;\n",
              "      box-shadow: 0px 1px 2px rgba(60, 64, 67, 0.3), 0px 1px 3px 1px rgba(60, 64, 67, 0.15);\n",
              "      fill: #174EA6;\n",
              "    }\n",
              "\n",
              "    [theme=dark] .colab-df-convert {\n",
              "      background-color: #3B4455;\n",
              "      fill: #D2E3FC;\n",
              "    }\n",
              "\n",
              "    [theme=dark] .colab-df-convert:hover {\n",
              "      background-color: #434B5C;\n",
              "      box-shadow: 0px 1px 3px 1px rgba(0, 0, 0, 0.15);\n",
              "      filter: drop-shadow(0px 1px 2px rgba(0, 0, 0, 0.3));\n",
              "      fill: #FFFFFF;\n",
              "    }\n",
              "  </style>\n",
              "\n",
              "      <script>\n",
              "        const buttonEl =\n",
              "          document.querySelector('#df-46301d5d-3bcb-49a6-b3c6-27e6156ad3fc button.colab-df-convert');\n",
              "        buttonEl.style.display =\n",
              "          google.colab.kernel.accessAllowed ? 'block' : 'none';\n",
              "\n",
              "        async function convertToInteractive(key) {\n",
              "          const element = document.querySelector('#df-46301d5d-3bcb-49a6-b3c6-27e6156ad3fc');\n",
              "          const dataTable =\n",
              "            await google.colab.kernel.invokeFunction('convertToInteractive',\n",
              "                                                     [key], {});\n",
              "          if (!dataTable) return;\n",
              "\n",
              "          const docLinkHtml = 'Like what you see? Visit the ' +\n",
              "            '<a target=\"_blank\" href=https://colab.research.google.com/notebooks/data_table.ipynb>data table notebook</a>'\n",
              "            + ' to learn more about interactive tables.';\n",
              "          element.innerHTML = '';\n",
              "          dataTable['output_type'] = 'display_data';\n",
              "          await google.colab.output.renderOutput(dataTable, element);\n",
              "          const docLink = document.createElement('div');\n",
              "          docLink.innerHTML = docLinkHtml;\n",
              "          element.appendChild(docLink);\n",
              "        }\n",
              "      </script>\n",
              "    </div>\n",
              "  </div>\n",
              "  "
            ]
          },
          "metadata": {},
          "execution_count": 75
        }
      ]
    },
    {
      "cell_type": "code",
      "source": [
        "scaler = StandardScaler()\n",
        "df_for_training_scaled = scaler.fit_transform(df_for_training)"
      ],
      "metadata": {
        "id": "K5C14hhiMAEQ"
      },
      "execution_count": 76,
      "outputs": []
    },
    {
      "cell_type": "code",
      "source": [
        "df_for_training_scaled"
      ],
      "metadata": {
        "colab": {
          "base_uri": "https://localhost:8080/"
        },
        "id": "ZbWcxkwUjFHy",
        "outputId": "3218f0ed-e58a-4ed2-e8fa-f00932da72eb"
      },
      "execution_count": 77,
      "outputs": [
        {
          "output_type": "execute_result",
          "data": {
            "text/plain": [
              "array([[-0.73004295, -2.01902897, -2.11504421, ...,  0.4854903 ,\n",
              "         0.12151653,  1.05193958],\n",
              "       [ 1.93189622, -2.01902897, -2.11504421, ...,  0.4854903 ,\n",
              "         0.12151653,  1.16887899],\n",
              "       [-0.19765511, -2.01902897, -2.11504421, ...,  0.39240916,\n",
              "         0.2196956 ,  1.0896943 ],\n",
              "       ...,\n",
              "       [-0.99623686, -0.72568933, -1.12670559, ..., -2.37379311,\n",
              "         1.9825553 , -1.33228799],\n",
              "       [-0.46384903, -0.72568933, -1.12670559, ..., -2.46433568,\n",
              "         2.22909385, -1.33195387],\n",
              "       [-0.99623686, -1.15938406, -1.10688928, ..., -2.46433568,\n",
              "         2.22909385, -1.34398193]])"
            ]
          },
          "metadata": {},
          "execution_count": 77
        }
      ]
    },
    {
      "cell_type": "code",
      "source": [
        "train_size = int(len(df)*0.75)\n",
        "test_size = len(df) - train_size\n",
        "df_train = df_for_training_scaled[:train_size]\n",
        "df_test = df_for_training_scaled[train_size:]"
      ],
      "metadata": {
        "id": "8NK4kDVAMDP1"
      },
      "execution_count": 78,
      "outputs": []
    },
    {
      "cell_type": "code",
      "source": [
        "df_test"
      ],
      "metadata": {
        "colab": {
          "base_uri": "https://localhost:8080/"
        },
        "id": "rjAvp7_SpKoD",
        "outputId": "7a9f093a-ccc8-4e4d-bacb-f961867307c8"
      },
      "execution_count": 79,
      "outputs": [
        {
          "output_type": "execute_result",
          "data": {
            "text/plain": [
              "array([[-0.46384903, -0.72568933, -0.75090337, ...,  0.88446992,\n",
              "        -1.20281001, -1.26412901],\n",
              "       [ 0.0685388 , -0.72568933, -0.75090337, ...,  0.88446992,\n",
              "        -1.2944438 , -1.28050053],\n",
              "       [ 0.0685388 , -0.72568933, -0.75090337, ...,  0.88446992,\n",
              "        -1.2944438 , -1.26412901],\n",
              "       ...,\n",
              "       [-0.99623686, -0.72568933, -1.12670559, ..., -2.37379311,\n",
              "         1.9825553 , -1.33228799],\n",
              "       [-0.46384903, -0.72568933, -1.12670559, ..., -2.46433568,\n",
              "         2.22909385, -1.33195387],\n",
              "       [-0.99623686, -1.15938406, -1.10688928, ..., -2.46433568,\n",
              "         2.22909385, -1.34398193]])"
            ]
          },
          "metadata": {},
          "execution_count": 79
        }
      ]
    },
    {
      "cell_type": "code",
      "source": [
        "trainX = []\n",
        "trainY = []\n",
        "\n",
        "n_future = 1   # Number of days we want to look into the future based on the past days.\n",
        "n_past = 14  # Number of past days we want to use to predict the future.\n",
        "\n",
        "#Reformat input data into a shape: (n_samples x timesteps x n_features)\n",
        "#In my example, my df_for_training_scaled has a shape (12823, 5)\n",
        "#12823 refers to the number of data points and 5 refers to the columns (multi-variables).\n",
        "for i in range(n_past, len(df_train) - n_future +1):\n",
        "    trainX.append(df_train[i - n_past:i, 0:df_for_training.shape[1]]-1)\n",
        "    trainY.append(df_train[i + n_future - 1:i + n_future, -1])\n",
        "\n",
        "trainX, trainY = np.array(trainX), np.array(trainY)\n",
        "\n",
        "print('trainX shape == {}.'.format(trainX.shape))\n",
        "print('trainY shape == {}.'.format(trainY.shape))"
      ],
      "metadata": {
        "colab": {
          "base_uri": "https://localhost:8080/"
        },
        "id": "iuUR_lywlBxn",
        "outputId": "548481e0-0c3e-40ac-8e51-fe6c210f2f36"
      },
      "execution_count": 80,
      "outputs": [
        {
          "output_type": "stream",
          "name": "stdout",
          "text": [
            "trainX shape == (29616, 14, 10).\n",
            "trainY shape == (29616, 1).\n"
          ]
        }
      ]
    },
    {
      "cell_type": "code",
      "source": [
        "df_test"
      ],
      "metadata": {
        "colab": {
          "base_uri": "https://localhost:8080/"
        },
        "id": "dWVgQl57qZL9",
        "outputId": "9de29f03-d174-4f1c-edb5-99bc4b701842"
      },
      "execution_count": 81,
      "outputs": [
        {
          "output_type": "execute_result",
          "data": {
            "text/plain": [
              "array([[-0.46384903, -0.72568933, -0.75090337, ...,  0.88446992,\n",
              "        -1.20281001, -1.26412901],\n",
              "       [ 0.0685388 , -0.72568933, -0.75090337, ...,  0.88446992,\n",
              "        -1.2944438 , -1.28050053],\n",
              "       [ 0.0685388 , -0.72568933, -0.75090337, ...,  0.88446992,\n",
              "        -1.2944438 , -1.26412901],\n",
              "       ...,\n",
              "       [-0.99623686, -0.72568933, -1.12670559, ..., -2.37379311,\n",
              "         1.9825553 , -1.33228799],\n",
              "       [-0.46384903, -0.72568933, -1.12670559, ..., -2.46433568,\n",
              "         2.22909385, -1.33195387],\n",
              "       [-0.99623686, -1.15938406, -1.10688928, ..., -2.46433568,\n",
              "         2.22909385, -1.34398193]])"
            ]
          },
          "metadata": {},
          "execution_count": 81
        }
      ]
    },
    {
      "cell_type": "code",
      "source": [
        "testX = []\n",
        "testY = []\n",
        "\n",
        "n_future = 1   # Number of days we want to look into the future based on the past days.\n",
        "n_past = 14  # Number of past days we want to use to predict the future.\n",
        "\n",
        "#Reformat input data into a shape: (n_samples x timesteps x n_features)\n",
        "#In my example, my df_for_training_scaled has a shape (12823, 5)\n",
        "#12823 refers to the number of data points and 5 refers to the columns (multi-variables).\n",
        "for i in range(n_past, len(df_test) - n_future +1):\n",
        "    testX.append(df_test[i - n_past:i, 0:df_test.shape[1]]-1)\n",
        "    testY.append(df_test[i + n_future - 1:i + n_future, -1])\n",
        "\n",
        "# trainX, trainY = np.array(trainX), np.array(trainY)\n",
        "testX, testY = np.array(testX),np.array(testY)"
      ],
      "metadata": {
        "id": "BG61sPjdl4_p"
      },
      "execution_count": 82,
      "outputs": []
    },
    {
      "cell_type": "code",
      "source": [
        "testY"
      ],
      "metadata": {
        "colab": {
          "base_uri": "https://localhost:8080/"
        },
        "id": "UPlmTwmEl83m",
        "outputId": "8376a1ed-8f23-4450-d454-a4263be113f1"
      },
      "execution_count": 83,
      "outputs": [
        {
          "output_type": "execute_result",
          "data": {
            "text/plain": [
              "array([[-1.26479724],\n",
              "       [-1.28116876],\n",
              "       [-1.26446313],\n",
              "       ...,\n",
              "       [-1.33228799],\n",
              "       [-1.33195387],\n",
              "       [-1.34398193]])"
            ]
          },
          "metadata": {},
          "execution_count": 83
        }
      ]
    },
    {
      "cell_type": "code",
      "source": [
        "z = np.repeat(testY, df_for_training.shape[1], axis=-1)\n",
        "z = scaler.inverse_transform(z)[:,-1]\n",
        "z"
      ],
      "metadata": {
        "colab": {
          "base_uri": "https://localhost:8080/"
        },
        "id": "o-RyddCymMAh",
        "outputId": "c964c47a-c6ef-4277-c59c-1b60c65e6e49"
      },
      "execution_count": 84,
      "outputs": [
        {
          "output_type": "execute_result",
          "data": {
            "text/plain": [
              "array([529., 480., 530., ..., 327., 328., 292.])"
            ]
          },
          "metadata": {},
          "execution_count": 84
        }
      ]
    },
    {
      "cell_type": "code",
      "source": [
        "# print((df_for_training[i + n_future - 1:i + n_future, 9]))"
      ],
      "metadata": {
        "id": "kdL4BuRbVH0K"
      },
      "execution_count": null,
      "outputs": []
    },
    {
      "cell_type": "code",
      "source": [
        "# model = Sequential()\n",
        "# model.add(LSTM(64, activation='relu', input_shape=(trainX.shape[1], trainX.shape[2]), return_sequences=True))\n",
        "# model.add(LSTM(32, activation='relu', return_sequences=False))\n",
        "# model.add(Dropout(0.2))\n",
        "# model.add(Dense(trainY.shape[1]))\n",
        "\n",
        "# model.compile(optimizer='adam', loss='mse')\n",
        "# model.summary()"
      ],
      "metadata": {
        "id": "Hh288IcXP0Po"
      },
      "execution_count": null,
      "outputs": []
    },
    {
      "cell_type": "code",
      "source": [
        "model = tf.keras.Sequential()\n",
        "model.add(tf.keras.layers.LSTM(128, input_shape=(trainX.shape[1], trainX.shape[2]), return_sequences=True))\n",
        "model.add(tf.keras.layers.LeakyReLU(alpha=0.5)) \n",
        "model.add(tf.keras.layers.LSTM(128, return_sequences=True))\n",
        "model.add(tf.keras.layers.LeakyReLU(alpha=0.5)) \n",
        "model.add(tf.keras.layers.Dropout(0.3)) \n",
        "model.add(tf.keras.layers.LSTM(64, return_sequences=False))\n",
        "model.add(tf.keras.layers.Dropout(0.3)) \n",
        "model.add(tf.keras.layers.Dense(1))"
      ],
      "metadata": {
        "id": "nwpxCE2iFFxj"
      },
      "execution_count": 85,
      "outputs": []
    },
    {
      "cell_type": "code",
      "source": [
        "from keras.callbacks import ModelCheckpoint\n",
        "# early_stopping = tf.keras.callbacks.EarlyStopping(monitor='val_loss',\n",
        "#                                                     patience=2,\n",
        "#                                                     mode='min')\n",
        "\n",
        "checkpoint = ModelCheckpoint(\"y.hdf5\", monitor='loss', verbose=1,\n",
        "    save_best_only=True, mode='auto', period=1)\n",
        "\n",
        "model.compile(loss=tf.losses.MeanSquaredError(),\n",
        "              optimizer=tf.optimizers.Adam(),\n",
        "              metrics=[tf.metrics.MeanAbsoluteError()])\n",
        "\n",
        "# history = model.fit_generator(train_generator, epochs=3,\n",
        "#                     validation_data=test_generator,\n",
        "#                     shuffle=False,\n",
        "#                     callbacks=[early_stopping])\n",
        "history = model.fit(trainX, trainY, epochs=1, batch_size=16, validation_data = (testX,testY) , verbose=1,shuffle=False,\n",
        "                    callbacks=[checkpoint])"
      ],
      "metadata": {
        "colab": {
          "base_uri": "https://localhost:8080/"
        },
        "id": "V4mxChFzFx18",
        "outputId": "55a2805a-69ef-4e32-86a3-9b29b95cbf10"
      },
      "execution_count": 93,
      "outputs": [
        {
          "output_type": "stream",
          "name": "stderr",
          "text": [
            "WARNING:tensorflow:`period` argument is deprecated. Please use `save_freq` to specify the frequency in number of batches seen.\n"
          ]
        },
        {
          "output_type": "stream",
          "name": "stdout",
          "text": [
            "1851/1851 [==============================] - ETA: 0s - loss: 0.0645 - mean_absolute_error: 0.1320\n",
            "Epoch 1: loss improved from inf to 0.06448, saving model to y.hdf5\n",
            "1851/1851 [==============================] - 118s 60ms/step - loss: 0.0645 - mean_absolute_error: 0.1320 - val_loss: 0.0021 - val_mean_absolute_error: 0.0407\n"
          ]
        }
      ]
    },
    {
      "cell_type": "code",
      "source": [
        "predictions=model.predict_generator(testX)"
      ],
      "metadata": {
        "id": "d8sbhpKtHFi0"
      },
      "execution_count": 94,
      "outputs": []
    },
    {
      "cell_type": "code",
      "source": [
        "print(\"predictions on test X\")\n",
        "print(predictions)"
      ],
      "metadata": {
        "colab": {
          "base_uri": "https://localhost:8080/"
        },
        "id": "z_Fo0AcnHS_O",
        "outputId": "7205922c-c756-4596-807e-e189743d1dbb"
      },
      "execution_count": 95,
      "outputs": [
        {
          "output_type": "stream",
          "name": "stdout",
          "text": [
            "predictions on test X\n",
            "[[-1.2781198]\n",
            " [-1.278151 ]\n",
            " [-1.2783172]\n",
            " ...\n",
            " [-1.2752383]\n",
            " [-1.2752142]\n",
            " [-1.2747202]]\n"
          ]
        }
      ]
    },
    {
      "cell_type": "code",
      "source": [
        "prediction_copies = np.repeat(predictions, df_for_training.shape[1], axis=-1)\n",
        "real_predictions = scaler.inverse_transform(prediction_copies)[:,-1]"
      ],
      "metadata": {
        "id": "1Dt7SbAkolzq"
      },
      "execution_count": 96,
      "outputs": []
    },
    {
      "cell_type": "code",
      "source": [
        "print('predictions after inverse transforming')\n",
        "print(real_predictions)"
      ],
      "metadata": {
        "colab": {
          "base_uri": "https://localhost:8080/"
        },
        "id": "ho0kNmrAYtCK",
        "outputId": "0b8b651b-1153-4fc9-9336-2298b0a8ea11"
      },
      "execution_count": 97,
      "outputs": [
        {
          "output_type": "stream",
          "name": "stdout",
          "text": [
            "predictions after inverse transforming\n",
            "[489.12555 489.03204 488.53473 ... 497.75006 497.82208 499.3006 ]\n"
          ]
        }
      ]
    },
    {
      "cell_type": "code",
      "source": [
        "print(\"these are real values\")\n",
        "prediction_copies = np.repeat(testY, df_for_training.shape[1], axis=-1)\n",
        "y = scaler.inverse_transform(prediction_copies)[:,-1]\n",
        "print(y)"
      ],
      "metadata": {
        "colab": {
          "base_uri": "https://localhost:8080/"
        },
        "id": "gxep94ncfPZe",
        "outputId": "dbfdda2f-d3ce-4fcb-e4ba-a2be49c88f32"
      },
      "execution_count": 98,
      "outputs": [
        {
          "output_type": "stream",
          "name": "stdout",
          "text": [
            "these are real values\n",
            "[529. 480. 530. ... 327. 328. 292.]\n"
          ]
        }
      ]
    },
    {
      "cell_type": "code",
      "source": [
        "rmse = np.sqrt(np.mean(((real_predictions - y) ** 2)))\n",
        "print('Root Mean Squared Error:', rmse)"
      ],
      "metadata": {
        "colab": {
          "base_uri": "https://localhost:8080/"
        },
        "id": "UyDY0hnTCqcK",
        "outputId": "e467c1a6-327f-4097-a7ae-2bd31e77d3c0"
      },
      "execution_count": 99,
      "outputs": [
        {
          "output_type": "stream",
          "name": "stdout",
          "text": [
            "Root Mean Squared Error: 137.84241019373107\n"
          ]
        }
      ]
    },
    {
      "cell_type": "code",
      "source": [
        "import pickle\n",
        "pickle.dump(model, open('model.pkl', 'wb'))"
      ],
      "metadata": {
        "colab": {
          "base_uri": "https://localhost:8080/"
        },
        "id": "P9GdjKjJEJIz",
        "outputId": "16ea63ff-4af8-4dff-ba23-840a9317fec0"
      },
      "execution_count": 100,
      "outputs": [
        {
          "output_type": "stream",
          "name": "stdout",
          "text": [
            "Keras weights file (<HDF5 file \"variables.h5\" (mode r+)>) saving:\n",
            "...layers\n",
            "......dense\n",
            ".........vars\n",
            "............0\n",
            "............1\n",
            "......dropout\n",
            ".........vars\n",
            "......dropout_1\n",
            ".........vars\n",
            "......leaky_re_lu\n",
            ".........vars\n",
            "......leaky_re_lu_1\n",
            ".........vars\n",
            "......lstm\n",
            ".........cell\n",
            "............vars\n",
            "...............0\n",
            "...............1\n",
            "...............2\n",
            ".........vars\n",
            "......lstm_1\n",
            ".........cell\n",
            "............vars\n",
            "...............0\n",
            "...............1\n",
            "...............2\n",
            ".........vars\n",
            "......lstm_2\n",
            ".........cell\n",
            "............vars\n",
            "...............0\n",
            "...............1\n",
            "...............2\n",
            ".........vars\n",
            "...metrics\n",
            "......mean\n",
            ".........vars\n",
            "............0\n",
            "............1\n",
            "......mean_absolute_error\n",
            ".........vars\n",
            "............0\n",
            "............1\n",
            "...optimizer\n",
            "......vars\n",
            ".........0\n",
            ".........1\n",
            ".........10\n",
            ".........11\n",
            ".........12\n",
            ".........13\n",
            ".........14\n",
            ".........15\n",
            ".........16\n",
            ".........17\n",
            ".........18\n",
            ".........19\n",
            ".........2\n",
            ".........20\n",
            ".........21\n",
            ".........22\n",
            ".........3\n",
            ".........4\n",
            ".........5\n",
            ".........6\n",
            ".........7\n",
            ".........8\n",
            ".........9\n",
            "...vars\n",
            "Keras model archive saving:\n",
            "File Name                                             Modified             Size\n",
            "metadata.json                                  2023-03-25 18:40:04           64\n",
            "config.json                                    2023-03-25 18:40:04         4728\n",
            "variables.h5                                   2023-03-25 18:40:04      3070168\n"
          ]
        }
      ]
    }
  ]
}